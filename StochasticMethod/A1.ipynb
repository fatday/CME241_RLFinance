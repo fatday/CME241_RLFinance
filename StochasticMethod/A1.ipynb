{
  "nbformat": 4,
  "nbformat_minor": 0,
  "metadata": {
    "colab": {
      "provenance": [],
      "authorship_tag": "ABX9TyP51sRNNi9Lb6ttzQJVjMAs",
      "include_colab_link": true
    },
    "kernelspec": {
      "name": "python3",
      "display_name": "Python 3"
    },
    "language_info": {
      "name": "python"
    }
  },
  "cells": [
    {
      "cell_type": "markdown",
      "metadata": {
        "id": "view-in-github",
        "colab_type": "text"
      },
      "source": [
        "<a href=\"https://colab.research.google.com/github/fatday/CME241_RLFinance/blob/main/StochasticMethod/A1.ipynb\" target=\"_parent\"><img src=\"https://colab.research.google.com/assets/colab-badge.svg\" alt=\"Open In Colab\"/></a>"
      ]
    },
    {
      "cell_type": "code",
      "execution_count": 4,
      "metadata": {
        "id": "mE3HcKZ7uBOl"
      },
      "outputs": [],
      "source": [
        "import numpy as np\n",
        "from numpy import random"
      ]
    },
    {
      "cell_type": "code",
      "source": [
        "lambda_val = 3\n",
        "normalizer1 = 1 / lambda_val\n",
        "normalizer2 = np.sqrt( np.pi / lambda_val) * (1 / 2)\n",
        "normalizer3 = lambda_val / (lambda_val - 1)\n",
        "\n",
        "# expoential distribuion variations\n",
        "def original_sample(lambda_val = 3):\n",
        "  normalizer = 1 / lambda_val # c1\n",
        "  x = random.exponential(scale=1/lambda_val)\n",
        "  return x / normalizer1\n",
        "\n",
        "def sqrt_root_sample(lambda_val = 3):\n",
        "  normalizer = np.sqrt( np.pi / lambda_val) * (1 / 2) # c2\n",
        "  x = np.sqrt(random.exponential(scale=1/lambda_val))\n",
        "  return x / normalizer1\n",
        "\n",
        "def exp_sample(lambda_val = 3):\n",
        "  normalizer = lambda_val / (lambda_val - 1)\n",
        "  x = np.exp(random.exponential(scale=1/lambda_val))\n",
        "  return x / normalizer1"
      ],
      "metadata": {
        "id": "Na63MOTCuPBT"
      },
      "execution_count": 48,
      "outputs": []
    },
    {
      "cell_type": "code",
      "source": [
        "N = 10000\n",
        "def simulations(sampler, N = 1000):\n",
        "  # second overshoot\n",
        "  overshoot_points = []\n",
        "  mean = []\n",
        "  var = []\n",
        "  M2 = 0.0\n",
        "  n = 0\n",
        "  for i in range(N):\n",
        "    start_x = sampler()\n",
        "    while(True):\n",
        "      new_sample = sampler()\n",
        "      if(new_sample > start_x):\n",
        "        overshoot_points.append(new_sample - start_x)\n",
        "\n",
        "        n += 1\n",
        "        if n == 1:\n",
        "          new_mean = new_sample\n",
        "          new_var = 0.0\n",
        "        else:\n",
        "          delta = new_sample - mean[-1]\n",
        "          new_mean = mean[-1] + delta / n\n",
        "          delta2 = new_sample - new_mean\n",
        "          M2 = delta * delta2\n",
        "          new_var = M2 / (n - 1)\n",
        "\n",
        "        mean.append(new_mean)\n",
        "        var.append(new_var)\n",
        "        break\n",
        "\n",
        "  overshoot_points = np.array(overshoot_points)\n",
        "  mean = np.array(mean)\n",
        "  var = np.array(var)\n",
        "  squared_coef = var / mean**2\n",
        "\n",
        "  return overshoot_points, mean, var, squared_coef"
      ],
      "metadata": {
        "id": "lqh4QDFqvVEq"
      },
      "execution_count": 69,
      "outputs": []
    },
    {
      "cell_type": "code",
      "source": [
        "original_exp_result  = simulations(original_sample, N)\n",
        "sqrt_root_exp_result = simulations(sqrt_root_sample, N)\n",
        "exp_exp_result       = simulations(exp_sample, N)"
      ],
      "metadata": {
        "id": "bv6iCAwKwdHI"
      },
      "execution_count": 70,
      "outputs": []
    },
    {
      "cell_type": "code",
      "source": [
        "print(f\"Number of Simulation = {N}\\n\")\n",
        "print(f\"c_1 * X - with c1 = {normalizer1} \\nOvershoot of the Second Record: \\nMean = {original_exp_result[1][-1]}\\nVariance = {original_exp_result[2][-1]}\\nSquared Coefficient of Variation = {original_exp_result[3][-1]}\\n\")\n",
        "print(f\"c_2 * Y - with c2 = {normalizer2} \\nOvershoot of the Second Record: \\nMean = {sqrt_root_exp_result[1][-1]}\\nVariance = {sqrt_root_exp_result[2][-1]}\\nSquared Coefficient of Variation = {sqrt_root_exp_result[3][-1]}\\n\")\n",
        "print(f\"c_3 * Z - with c3 = {normalizer3} \\nOvershoot of the Second Record: \\nMean = {exp_exp_result[1][-1]}\\nVariance = {exp_exp_result[2][-1]}\\nSquared Coefficient of Variation = {exp_exp_result[3][-1]}\\n\")"
      ],
      "metadata": {
        "colab": {
          "base_uri": "https://localhost:8080/"
        },
        "id": "EMS9cwtczZ-V",
        "outputId": "037be0ca-e227-43f6-ca61-526e62010bce"
      },
      "execution_count": 71,
      "outputs": [
        {
          "output_type": "stream",
          "name": "stdout",
          "text": [
            "Number of Simulation = 10000\n",
            "\n",
            "c_1 * X - with c1 = 0.3333333333333333 \n",
            "Overshoot of the Second Record: \n",
            "Mean = 1.9873641750215094\n",
            "Variance = 0.00010103824321414808\n",
            "Squared Coefficient of Variation = 2.5581786659339077e-05\n",
            "\n",
            "c_2 * Y - with c2 = 0.5116633539732443 \n",
            "Overshoot of the Second Record: \n",
            "Mean = 2.28723855582437\n",
            "Variance = 3.672197770770679e-05\n",
            "Squared Coefficient of Variation = 7.0194508272740235e-06\n",
            "\n",
            "c_3 * Z - with c3 = 1.5 \n",
            "Overshoot of the Second Record: \n",
            "Mean = 6.861108680452137\n",
            "Variance = 0.0006284937963491602\n",
            "Squared Coefficient of Variation = 1.3350957025817204e-05\n",
            "\n"
          ]
        }
      ]
    },
    {
      "cell_type": "code",
      "source": [],
      "metadata": {
        "id": "zh-dYBRp3cDr"
      },
      "execution_count": null,
      "outputs": []
    }
  ]
}